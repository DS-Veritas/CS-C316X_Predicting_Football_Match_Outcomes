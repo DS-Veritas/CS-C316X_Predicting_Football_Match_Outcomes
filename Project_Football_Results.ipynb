{
 "cells": [
  {
   "cell_type": "markdown",
   "metadata": {},
   "source": [
    "# Data Science Final Project - Football Analysis"
   ]
  },
  {
   "cell_type": "code",
   "execution_count": 2,
   "metadata": {},
   "outputs": [],
   "source": [
    "import numpy as np\n",
    "import pandas as pd\n",
    "import seaborn as sns\n",
    "import matplotlib.pyplot as plt\n",
    "%matplotlib inline"
   ]
  },
  {
   "cell_type": "code",
   "execution_count": 3,
   "metadata": {},
   "outputs": [],
   "source": [
    "#For Linear Regression and Logistic Regression\n",
    "from sklearn.linear_model import LinearRegression\n",
    "from sklearn.linear_model import LogisticRegression\n",
    "from sklearn.model_selection import train_test_split\n",
    "\n",
    "# For Principal Component Analyseis\n",
    "from sklearn.preprocessing import StandardScaler\n",
    "from sklearn.decomposition import PCA\n",
    "from sklearn.preprocessing import MinMaxScaler\n",
    "\n",
    "# For prediction analysis\n",
    "from sklearn import metrics\n",
    "from sklearn.metrics import classification_report"
   ]
  },
  {
   "cell_type": "markdown",
   "metadata": {},
   "source": [
    "# ***1. Data Exploration***"
   ]
  },
  {
   "cell_type": "code",
   "execution_count": 4,
   "metadata": {},
   "outputs": [],
   "source": [
    "train_x = pd.read_csv('football_train_x.csv')\n",
    "train_y = pd.read_csv('football_train_y.csv')\n",
    "test_x = pd.read_csv('football_test_x.csv')\n",
    "test_y = pd.read_csv('football_test_y.csv')"
   ]
  },
  {
   "cell_type": "code",
   "execution_count": 5,
   "metadata": {},
   "outputs": [
    {
     "name": "stdout",
     "output_type": "stream",
     "text": [
      "<class 'pandas.core.frame.DataFrame'>\n",
      "RangeIndex: 798 entries, 0 to 797\n",
      "Data columns (total 13 columns):\n",
      "HomeTeam    798 non-null int64\n",
      "AwayTeam    798 non-null int64\n",
      "HTHG        798 non-null int64\n",
      "HTAG        798 non-null int64\n",
      "HTR         798 non-null int64\n",
      "HS          798 non-null int64\n",
      "AS          798 non-null int64\n",
      "HST         798 non-null int64\n",
      "AST         798 non-null int64\n",
      "HF          798 non-null int64\n",
      "AF          798 non-null int64\n",
      "HC          798 non-null int64\n",
      "AC          798 non-null int64\n",
      "dtypes: int64(13)\n",
      "memory usage: 81.2 KB\n"
     ]
    }
   ],
   "source": [
    "# Train files has total of 798 data\n",
    "train_x.info()"
   ]
  },
  {
   "cell_type": "code",
   "execution_count": 6,
   "metadata": {},
   "outputs": [
    {
     "name": "stdout",
     "output_type": "stream",
     "text": [
      "<class 'pandas.core.frame.DataFrame'>\n",
      "RangeIndex: 798 entries, 0 to 797\n",
      "Data columns (total 2 columns):\n",
      "Interest    798 non-null int64\n",
      "FTG         798 non-null int64\n",
      "dtypes: int64(2)\n",
      "memory usage: 12.6 KB\n"
     ]
    }
   ],
   "source": [
    "train_y.info()"
   ]
  },
  {
   "cell_type": "code",
   "execution_count": 7,
   "metadata": {},
   "outputs": [
    {
     "name": "stdout",
     "output_type": "stream",
     "text": [
      "<class 'pandas.core.frame.DataFrame'>\n",
      "RangeIndex: 342 entries, 0 to 341\n",
      "Data columns (total 13 columns):\n",
      "HomeTeam    342 non-null int64\n",
      "AwayTeam    342 non-null int64\n",
      "HTHG        342 non-null int64\n",
      "HTAG        342 non-null int64\n",
      "HTR         342 non-null int64\n",
      "HS          342 non-null int64\n",
      "AS          342 non-null int64\n",
      "HST         342 non-null int64\n",
      "AST         342 non-null int64\n",
      "HF          342 non-null int64\n",
      "AF          342 non-null int64\n",
      "HC          342 non-null int64\n",
      "AC          342 non-null int64\n",
      "dtypes: int64(13)\n",
      "memory usage: 34.9 KB\n"
     ]
    }
   ],
   "source": [
    "# Test files has total of 342 data\n",
    "test_x.info()"
   ]
  },
  {
   "cell_type": "code",
   "execution_count": 8,
   "metadata": {},
   "outputs": [
    {
     "name": "stdout",
     "output_type": "stream",
     "text": [
      "<class 'pandas.core.frame.DataFrame'>\n",
      "RangeIndex: 342 entries, 0 to 341\n",
      "Data columns (total 2 columns):\n",
      "Interest    342 non-null int64\n",
      "FTG         342 non-null int64\n",
      "dtypes: int64(2)\n",
      "memory usage: 5.5 KB\n"
     ]
    }
   ],
   "source": [
    "test_y.info(null_counts=True)"
   ]
  },
  {
   "cell_type": "code",
   "execution_count": 9,
   "metadata": {},
   "outputs": [
    {
     "data": {
      "text/html": [
       "<div>\n",
       "<style scoped>\n",
       "    .dataframe tbody tr th:only-of-type {\n",
       "        vertical-align: middle;\n",
       "    }\n",
       "\n",
       "    .dataframe tbody tr th {\n",
       "        vertical-align: top;\n",
       "    }\n",
       "\n",
       "    .dataframe thead th {\n",
       "        text-align: right;\n",
       "    }\n",
       "</style>\n",
       "<table border=\"1\" class=\"dataframe\">\n",
       "  <thead>\n",
       "    <tr style=\"text-align: right;\">\n",
       "      <th></th>\n",
       "      <th>HomeTeam</th>\n",
       "      <th>AwayTeam</th>\n",
       "      <th>HTHG</th>\n",
       "      <th>HTAG</th>\n",
       "      <th>HTR</th>\n",
       "      <th>HS</th>\n",
       "      <th>AS</th>\n",
       "      <th>HST</th>\n",
       "      <th>AST</th>\n",
       "      <th>HF</th>\n",
       "      <th>AF</th>\n",
       "      <th>HC</th>\n",
       "      <th>AC</th>\n",
       "    </tr>\n",
       "  </thead>\n",
       "  <tbody>\n",
       "    <tr>\n",
       "      <td>count</td>\n",
       "      <td>798.000000</td>\n",
       "      <td>798.000000</td>\n",
       "      <td>798.000000</td>\n",
       "      <td>798.000000</td>\n",
       "      <td>798.000000</td>\n",
       "      <td>798.000000</td>\n",
       "      <td>798.000000</td>\n",
       "      <td>798.000000</td>\n",
       "      <td>798.000000</td>\n",
       "      <td>798.000000</td>\n",
       "      <td>798.000000</td>\n",
       "      <td>798.000000</td>\n",
       "      <td>798.000000</td>\n",
       "    </tr>\n",
       "    <tr>\n",
       "      <td>mean</td>\n",
       "      <td>13.073935</td>\n",
       "      <td>12.948622</td>\n",
       "      <td>0.644110</td>\n",
       "      <td>0.545113</td>\n",
       "      <td>0.060150</td>\n",
       "      <td>13.850877</td>\n",
       "      <td>11.161654</td>\n",
       "      <td>4.649123</td>\n",
       "      <td>3.834586</td>\n",
       "      <td>10.567669</td>\n",
       "      <td>10.819549</td>\n",
       "      <td>5.667920</td>\n",
       "      <td>4.542607</td>\n",
       "    </tr>\n",
       "    <tr>\n",
       "      <td>std</td>\n",
       "      <td>7.377833</td>\n",
       "      <td>7.484060</td>\n",
       "      <td>0.828392</td>\n",
       "      <td>0.761261</td>\n",
       "      <td>0.767202</td>\n",
       "      <td>5.872469</td>\n",
       "      <td>4.840511</td>\n",
       "      <td>2.733168</td>\n",
       "      <td>2.303280</td>\n",
       "      <td>3.447008</td>\n",
       "      <td>3.448858</td>\n",
       "      <td>3.037821</td>\n",
       "      <td>2.747886</td>\n",
       "    </tr>\n",
       "    <tr>\n",
       "      <td>min</td>\n",
       "      <td>0.000000</td>\n",
       "      <td>0.000000</td>\n",
       "      <td>0.000000</td>\n",
       "      <td>0.000000</td>\n",
       "      <td>-1.000000</td>\n",
       "      <td>2.000000</td>\n",
       "      <td>1.000000</td>\n",
       "      <td>0.000000</td>\n",
       "      <td>0.000000</td>\n",
       "      <td>0.000000</td>\n",
       "      <td>3.000000</td>\n",
       "      <td>0.000000</td>\n",
       "      <td>0.000000</td>\n",
       "    </tr>\n",
       "    <tr>\n",
       "      <td>25%</td>\n",
       "      <td>6.000000</td>\n",
       "      <td>6.000000</td>\n",
       "      <td>0.000000</td>\n",
       "      <td>0.000000</td>\n",
       "      <td>-1.000000</td>\n",
       "      <td>9.250000</td>\n",
       "      <td>7.000000</td>\n",
       "      <td>3.000000</td>\n",
       "      <td>2.000000</td>\n",
       "      <td>8.000000</td>\n",
       "      <td>9.000000</td>\n",
       "      <td>3.000000</td>\n",
       "      <td>3.000000</td>\n",
       "    </tr>\n",
       "    <tr>\n",
       "      <td>50%</td>\n",
       "      <td>14.000000</td>\n",
       "      <td>14.000000</td>\n",
       "      <td>0.000000</td>\n",
       "      <td>0.000000</td>\n",
       "      <td>0.000000</td>\n",
       "      <td>13.000000</td>\n",
       "      <td>11.000000</td>\n",
       "      <td>4.000000</td>\n",
       "      <td>4.000000</td>\n",
       "      <td>11.000000</td>\n",
       "      <td>10.000000</td>\n",
       "      <td>5.000000</td>\n",
       "      <td>4.000000</td>\n",
       "    </tr>\n",
       "    <tr>\n",
       "      <td>75%</td>\n",
       "      <td>19.000000</td>\n",
       "      <td>19.000000</td>\n",
       "      <td>1.000000</td>\n",
       "      <td>1.000000</td>\n",
       "      <td>1.000000</td>\n",
       "      <td>17.000000</td>\n",
       "      <td>14.000000</td>\n",
       "      <td>6.000000</td>\n",
       "      <td>5.000000</td>\n",
       "      <td>13.000000</td>\n",
       "      <td>13.000000</td>\n",
       "      <td>8.000000</td>\n",
       "      <td>6.000000</td>\n",
       "    </tr>\n",
       "    <tr>\n",
       "      <td>max</td>\n",
       "      <td>25.000000</td>\n",
       "      <td>25.000000</td>\n",
       "      <td>4.000000</td>\n",
       "      <td>4.000000</td>\n",
       "      <td>1.000000</td>\n",
       "      <td>37.000000</td>\n",
       "      <td>30.000000</td>\n",
       "      <td>17.000000</td>\n",
       "      <td>14.000000</td>\n",
       "      <td>23.000000</td>\n",
       "      <td>21.000000</td>\n",
       "      <td>19.000000</td>\n",
       "      <td>15.000000</td>\n",
       "    </tr>\n",
       "  </tbody>\n",
       "</table>\n",
       "</div>"
      ],
      "text/plain": [
       "         HomeTeam    AwayTeam        HTHG        HTAG         HTR          HS  \\\n",
       "count  798.000000  798.000000  798.000000  798.000000  798.000000  798.000000   \n",
       "mean    13.073935   12.948622    0.644110    0.545113    0.060150   13.850877   \n",
       "std      7.377833    7.484060    0.828392    0.761261    0.767202    5.872469   \n",
       "min      0.000000    0.000000    0.000000    0.000000   -1.000000    2.000000   \n",
       "25%      6.000000    6.000000    0.000000    0.000000   -1.000000    9.250000   \n",
       "50%     14.000000   14.000000    0.000000    0.000000    0.000000   13.000000   \n",
       "75%     19.000000   19.000000    1.000000    1.000000    1.000000   17.000000   \n",
       "max     25.000000   25.000000    4.000000    4.000000    1.000000   37.000000   \n",
       "\n",
       "               AS         HST         AST          HF          AF          HC  \\\n",
       "count  798.000000  798.000000  798.000000  798.000000  798.000000  798.000000   \n",
       "mean    11.161654    4.649123    3.834586   10.567669   10.819549    5.667920   \n",
       "std      4.840511    2.733168    2.303280    3.447008    3.448858    3.037821   \n",
       "min      1.000000    0.000000    0.000000    0.000000    3.000000    0.000000   \n",
       "25%      7.000000    3.000000    2.000000    8.000000    9.000000    3.000000   \n",
       "50%     11.000000    4.000000    4.000000   11.000000   10.000000    5.000000   \n",
       "75%     14.000000    6.000000    5.000000   13.000000   13.000000    8.000000   \n",
       "max     30.000000   17.000000   14.000000   23.000000   21.000000   19.000000   \n",
       "\n",
       "               AC  \n",
       "count  798.000000  \n",
       "mean     4.542607  \n",
       "std      2.747886  \n",
       "min      0.000000  \n",
       "25%      3.000000  \n",
       "50%      4.000000  \n",
       "75%      6.000000  \n",
       "max     15.000000  "
      ]
     },
     "execution_count": 9,
     "metadata": {},
     "output_type": "execute_result"
    }
   ],
   "source": [
    "train_x.describe()"
   ]
  },
  {
   "cell_type": "code",
   "execution_count": 10,
   "metadata": {},
   "outputs": [
    {
     "data": {
      "text/html": [
       "<div>\n",
       "<style scoped>\n",
       "    .dataframe tbody tr th:only-of-type {\n",
       "        vertical-align: middle;\n",
       "    }\n",
       "\n",
       "    .dataframe tbody tr th {\n",
       "        vertical-align: top;\n",
       "    }\n",
       "\n",
       "    .dataframe thead th {\n",
       "        text-align: right;\n",
       "    }\n",
       "</style>\n",
       "<table border=\"1\" class=\"dataframe\">\n",
       "  <thead>\n",
       "    <tr style=\"text-align: right;\">\n",
       "      <th></th>\n",
       "      <th>HomeTeam</th>\n",
       "      <th>AwayTeam</th>\n",
       "      <th>HTHG</th>\n",
       "      <th>HTAG</th>\n",
       "      <th>HTR</th>\n",
       "      <th>HS</th>\n",
       "      <th>AS</th>\n",
       "      <th>HST</th>\n",
       "      <th>AST</th>\n",
       "      <th>HF</th>\n",
       "      <th>AF</th>\n",
       "      <th>HC</th>\n",
       "      <th>AC</th>\n",
       "    </tr>\n",
       "  </thead>\n",
       "  <tbody>\n",
       "    <tr>\n",
       "      <td>count</td>\n",
       "      <td>342.000000</td>\n",
       "      <td>342.000000</td>\n",
       "      <td>342.000000</td>\n",
       "      <td>342.000000</td>\n",
       "      <td>342.000000</td>\n",
       "      <td>342.000000</td>\n",
       "      <td>342.000000</td>\n",
       "      <td>342.000000</td>\n",
       "      <td>342.000000</td>\n",
       "      <td>342.000000</td>\n",
       "      <td>342.000000</td>\n",
       "      <td>342.000000</td>\n",
       "      <td>342.000000</td>\n",
       "    </tr>\n",
       "    <tr>\n",
       "      <td>mean</td>\n",
       "      <td>12.216374</td>\n",
       "      <td>12.508772</td>\n",
       "      <td>0.710526</td>\n",
       "      <td>0.505848</td>\n",
       "      <td>0.131579</td>\n",
       "      <td>14.020468</td>\n",
       "      <td>11.195906</td>\n",
       "      <td>4.932749</td>\n",
       "      <td>3.883041</td>\n",
       "      <td>10.271930</td>\n",
       "      <td>10.821637</td>\n",
       "      <td>5.786550</td>\n",
       "      <td>4.795322</td>\n",
       "    </tr>\n",
       "    <tr>\n",
       "      <td>std</td>\n",
       "      <td>7.518109</td>\n",
       "      <td>7.294692</td>\n",
       "      <td>0.860236</td>\n",
       "      <td>0.753269</td>\n",
       "      <td>0.764074</td>\n",
       "      <td>5.736864</td>\n",
       "      <td>4.881551</td>\n",
       "      <td>2.719245</td>\n",
       "      <td>2.386006</td>\n",
       "      <td>3.154716</td>\n",
       "      <td>3.652870</td>\n",
       "      <td>2.952914</td>\n",
       "      <td>2.700968</td>\n",
       "    </tr>\n",
       "    <tr>\n",
       "      <td>min</td>\n",
       "      <td>0.000000</td>\n",
       "      <td>0.000000</td>\n",
       "      <td>0.000000</td>\n",
       "      <td>0.000000</td>\n",
       "      <td>-1.000000</td>\n",
       "      <td>0.000000</td>\n",
       "      <td>0.000000</td>\n",
       "      <td>0.000000</td>\n",
       "      <td>0.000000</td>\n",
       "      <td>2.000000</td>\n",
       "      <td>3.000000</td>\n",
       "      <td>0.000000</td>\n",
       "      <td>0.000000</td>\n",
       "    </tr>\n",
       "    <tr>\n",
       "      <td>25%</td>\n",
       "      <td>5.000000</td>\n",
       "      <td>6.000000</td>\n",
       "      <td>0.000000</td>\n",
       "      <td>0.000000</td>\n",
       "      <td>0.000000</td>\n",
       "      <td>10.000000</td>\n",
       "      <td>8.000000</td>\n",
       "      <td>3.000000</td>\n",
       "      <td>2.000000</td>\n",
       "      <td>8.000000</td>\n",
       "      <td>8.000000</td>\n",
       "      <td>4.000000</td>\n",
       "      <td>3.000000</td>\n",
       "    </tr>\n",
       "    <tr>\n",
       "      <td>50%</td>\n",
       "      <td>13.000000</td>\n",
       "      <td>13.000000</td>\n",
       "      <td>0.000000</td>\n",
       "      <td>0.000000</td>\n",
       "      <td>0.000000</td>\n",
       "      <td>13.000000</td>\n",
       "      <td>11.000000</td>\n",
       "      <td>5.000000</td>\n",
       "      <td>4.000000</td>\n",
       "      <td>10.000000</td>\n",
       "      <td>10.500000</td>\n",
       "      <td>5.000000</td>\n",
       "      <td>5.000000</td>\n",
       "    </tr>\n",
       "    <tr>\n",
       "      <td>75%</td>\n",
       "      <td>19.000000</td>\n",
       "      <td>19.000000</td>\n",
       "      <td>1.000000</td>\n",
       "      <td>1.000000</td>\n",
       "      <td>1.000000</td>\n",
       "      <td>18.000000</td>\n",
       "      <td>14.000000</td>\n",
       "      <td>7.000000</td>\n",
       "      <td>5.000000</td>\n",
       "      <td>12.000000</td>\n",
       "      <td>13.000000</td>\n",
       "      <td>8.000000</td>\n",
       "      <td>7.000000</td>\n",
       "    </tr>\n",
       "    <tr>\n",
       "      <td>max</td>\n",
       "      <td>25.000000</td>\n",
       "      <td>25.000000</td>\n",
       "      <td>4.000000</td>\n",
       "      <td>4.000000</td>\n",
       "      <td>1.000000</td>\n",
       "      <td>32.000000</td>\n",
       "      <td>29.000000</td>\n",
       "      <td>14.000000</td>\n",
       "      <td>15.000000</td>\n",
       "      <td>24.000000</td>\n",
       "      <td>26.000000</td>\n",
       "      <td>16.000000</td>\n",
       "      <td>14.000000</td>\n",
       "    </tr>\n",
       "  </tbody>\n",
       "</table>\n",
       "</div>"
      ],
      "text/plain": [
       "         HomeTeam    AwayTeam        HTHG        HTAG         HTR          HS  \\\n",
       "count  342.000000  342.000000  342.000000  342.000000  342.000000  342.000000   \n",
       "mean    12.216374   12.508772    0.710526    0.505848    0.131579   14.020468   \n",
       "std      7.518109    7.294692    0.860236    0.753269    0.764074    5.736864   \n",
       "min      0.000000    0.000000    0.000000    0.000000   -1.000000    0.000000   \n",
       "25%      5.000000    6.000000    0.000000    0.000000    0.000000   10.000000   \n",
       "50%     13.000000   13.000000    0.000000    0.000000    0.000000   13.000000   \n",
       "75%     19.000000   19.000000    1.000000    1.000000    1.000000   18.000000   \n",
       "max     25.000000   25.000000    4.000000    4.000000    1.000000   32.000000   \n",
       "\n",
       "               AS         HST         AST          HF          AF          HC  \\\n",
       "count  342.000000  342.000000  342.000000  342.000000  342.000000  342.000000   \n",
       "mean    11.195906    4.932749    3.883041   10.271930   10.821637    5.786550   \n",
       "std      4.881551    2.719245    2.386006    3.154716    3.652870    2.952914   \n",
       "min      0.000000    0.000000    0.000000    2.000000    3.000000    0.000000   \n",
       "25%      8.000000    3.000000    2.000000    8.000000    8.000000    4.000000   \n",
       "50%     11.000000    5.000000    4.000000   10.000000   10.500000    5.000000   \n",
       "75%     14.000000    7.000000    5.000000   12.000000   13.000000    8.000000   \n",
       "max     29.000000   14.000000   15.000000   24.000000   26.000000   16.000000   \n",
       "\n",
       "               AC  \n",
       "count  342.000000  \n",
       "mean     4.795322  \n",
       "std      2.700968  \n",
       "min      0.000000  \n",
       "25%      3.000000  \n",
       "50%      5.000000  \n",
       "75%      7.000000  \n",
       "max     14.000000  "
      ]
     },
     "execution_count": 10,
     "metadata": {},
     "output_type": "execute_result"
    }
   ],
   "source": [
    "test_x.describe()"
   ]
  },
  {
   "cell_type": "code",
   "execution_count": 11,
   "metadata": {},
   "outputs": [],
   "source": [
    "corr = train_x.corr(method=\"pearson\")"
   ]
  },
  {
   "cell_type": "code",
   "execution_count": 12,
   "metadata": {
    "scrolled": true
   },
   "outputs": [
    {
     "data": {
      "text/html": [
       "<div>\n",
       "<style scoped>\n",
       "    .dataframe tbody tr th:only-of-type {\n",
       "        vertical-align: middle;\n",
       "    }\n",
       "\n",
       "    .dataframe tbody tr th {\n",
       "        vertical-align: top;\n",
       "    }\n",
       "\n",
       "    .dataframe thead th {\n",
       "        text-align: right;\n",
       "    }\n",
       "</style>\n",
       "<table border=\"1\" class=\"dataframe\">\n",
       "  <thead>\n",
       "    <tr style=\"text-align: right;\">\n",
       "      <th></th>\n",
       "      <th>HomeTeam</th>\n",
       "      <th>AwayTeam</th>\n",
       "      <th>HTHG</th>\n",
       "      <th>HTAG</th>\n",
       "      <th>HTR</th>\n",
       "      <th>HS</th>\n",
       "      <th>AS</th>\n",
       "      <th>HST</th>\n",
       "      <th>AST</th>\n",
       "      <th>HF</th>\n",
       "      <th>AF</th>\n",
       "      <th>HC</th>\n",
       "      <th>AC</th>\n",
       "    </tr>\n",
       "  </thead>\n",
       "  <tbody>\n",
       "    <tr>\n",
       "      <td>0</td>\n",
       "      <td>False</td>\n",
       "      <td>False</td>\n",
       "      <td>False</td>\n",
       "      <td>False</td>\n",
       "      <td>False</td>\n",
       "      <td>False</td>\n",
       "      <td>False</td>\n",
       "      <td>False</td>\n",
       "      <td>False</td>\n",
       "      <td>False</td>\n",
       "      <td>False</td>\n",
       "      <td>False</td>\n",
       "      <td>False</td>\n",
       "    </tr>\n",
       "    <tr>\n",
       "      <td>1</td>\n",
       "      <td>False</td>\n",
       "      <td>False</td>\n",
       "      <td>False</td>\n",
       "      <td>False</td>\n",
       "      <td>False</td>\n",
       "      <td>False</td>\n",
       "      <td>False</td>\n",
       "      <td>False</td>\n",
       "      <td>False</td>\n",
       "      <td>False</td>\n",
       "      <td>False</td>\n",
       "      <td>False</td>\n",
       "      <td>False</td>\n",
       "    </tr>\n",
       "    <tr>\n",
       "      <td>2</td>\n",
       "      <td>False</td>\n",
       "      <td>False</td>\n",
       "      <td>False</td>\n",
       "      <td>False</td>\n",
       "      <td>False</td>\n",
       "      <td>False</td>\n",
       "      <td>False</td>\n",
       "      <td>False</td>\n",
       "      <td>False</td>\n",
       "      <td>False</td>\n",
       "      <td>False</td>\n",
       "      <td>False</td>\n",
       "      <td>False</td>\n",
       "    </tr>\n",
       "    <tr>\n",
       "      <td>3</td>\n",
       "      <td>False</td>\n",
       "      <td>False</td>\n",
       "      <td>False</td>\n",
       "      <td>False</td>\n",
       "      <td>False</td>\n",
       "      <td>False</td>\n",
       "      <td>False</td>\n",
       "      <td>False</td>\n",
       "      <td>False</td>\n",
       "      <td>False</td>\n",
       "      <td>False</td>\n",
       "      <td>False</td>\n",
       "      <td>False</td>\n",
       "    </tr>\n",
       "    <tr>\n",
       "      <td>4</td>\n",
       "      <td>False</td>\n",
       "      <td>False</td>\n",
       "      <td>False</td>\n",
       "      <td>False</td>\n",
       "      <td>False</td>\n",
       "      <td>False</td>\n",
       "      <td>False</td>\n",
       "      <td>False</td>\n",
       "      <td>False</td>\n",
       "      <td>False</td>\n",
       "      <td>False</td>\n",
       "      <td>False</td>\n",
       "      <td>False</td>\n",
       "    </tr>\n",
       "  </tbody>\n",
       "</table>\n",
       "</div>"
      ],
      "text/plain": [
       "   HomeTeam  AwayTeam   HTHG   HTAG    HTR     HS     AS    HST    AST     HF  \\\n",
       "0     False     False  False  False  False  False  False  False  False  False   \n",
       "1     False     False  False  False  False  False  False  False  False  False   \n",
       "2     False     False  False  False  False  False  False  False  False  False   \n",
       "3     False     False  False  False  False  False  False  False  False  False   \n",
       "4     False     False  False  False  False  False  False  False  False  False   \n",
       "\n",
       "      AF     HC     AC  \n",
       "0  False  False  False  \n",
       "1  False  False  False  \n",
       "2  False  False  False  \n",
       "3  False  False  False  \n",
       "4  False  False  False  "
      ]
     },
     "execution_count": 12,
     "metadata": {},
     "output_type": "execute_result"
    }
   ],
   "source": [
    "# Check whether the train_x or test_x contains any null data \n",
    "train_x.isnull().head()"
   ]
  },
  {
   "cell_type": "code",
   "execution_count": 13,
   "metadata": {},
   "outputs": [
    {
     "data": {
      "text/plain": [
       "<matplotlib.axes._subplots.AxesSubplot at 0x1a245222d0>"
      ]
     },
     "execution_count": 13,
     "metadata": {},
     "output_type": "execute_result"
    },
    {
     "data": {
      "image/png": "[encoded data removed]",
      "text/plain": [
       "<Figure size 432x288 with 1 Axes>"
      ]
     },
     "metadata": {
      "needs_background": "light"
     },
     "output_type": "display_data"
    }
   ],
   "source": [
    "sns.heatmap(train_x.isnull(), yticklabels=False, cbar=False, cmap=\"viridis\")\n",
    "sns.heatmap(test_x.isnull(), yticklabels=False, cbar=False, cmap=\"viridis\")\n",
    "sns.heatmap(train_y.isnull(), yticklabels=False, cbar=False, cmap=\"viridis\")\n",
    "sns.heatmap(test_y.isnull(), yticklabels=False, cbar=False, cmap=\"viridis\")"
   ]
  },
  {
   "cell_type": "code",
   "execution_count": 14,
   "metadata": {},
   "outputs": [
    {
     "data": {
      "text/plain": [
       "<matplotlib.axes._subplots.AxesSubplot at 0x1a24c90d90>"
      ]
     },
     "execution_count": 14,
     "metadata": {},
     "output_type": "execute_result"
    },
    {
     "data": {
      "image/png": "[encoded data removed]",
      "text/plain": [
       "<Figure size 432x288 with 1 Axes>"
      ]
     },
     "metadata": {
      "needs_background": "light"
     },
     "output_type": "display_data"
    }
   ],
   "source": [
    "sns.heatmap(test_x.isnull(), yticklabels=False, cbar=False, cmap=\"viridis\")"
   ]
  },
  {
   "cell_type": "code",
   "execution_count": 15,
   "metadata": {},
   "outputs": [
    {
     "data": {
      "text/plain": [
       "<matplotlib.axes._subplots.AxesSubplot at 0x1a24e091d0>"
      ]
     },
     "execution_count": 15,
     "metadata": {},
     "output_type": "execute_result"
    },
    {
     "data": {
      "image/png": "[encoded data removed]",
      "text/plain": [
       "<Figure size 432x288 with 1 Axes>"
      ]
     },
     "metadata": {
      "needs_background": "light"
     },
     "output_type": "display_data"
    }
   ],
   "source": [
    "sns.heatmap(train_y.isnull(), yticklabels=False, cbar=False, cmap=\"viridis\")"
   ]
  },
  {
   "cell_type": "code",
   "execution_count": 16,
   "metadata": {},
   "outputs": [
    {
     "data": {
      "text/plain": [
       "<matplotlib.axes._subplots.AxesSubplot at 0x1a24e44f50>"
      ]
     },
     "execution_count": 16,
     "metadata": {},
     "output_type": "execute_result"
    },
    {
     "data": {
      "image/png": "[encoded data removed]",
      "text/plain": [
       "<Figure size 432x288 with 1 Axes>"
      ]
     },
     "metadata": {
      "needs_background": "light"
     },
     "output_type": "display_data"
    }
   ],
   "source": [
    "sns.heatmap(test_y.isnull(), yticklabels=False, cbar=False, cmap=\"viridis\")"
   ]
  },
  {
   "cell_type": "code",
   "execution_count": 17,
   "metadata": {},
   "outputs": [
    {
     "data": {
      "text/html": [
       "<div>\n",
       "<style scoped>\n",
       "    .dataframe tbody tr th:only-of-type {\n",
       "        vertical-align: middle;\n",
       "    }\n",
       "\n",
       "    .dataframe tbody tr th {\n",
       "        vertical-align: top;\n",
       "    }\n",
       "\n",
       "    .dataframe thead th {\n",
       "        text-align: right;\n",
       "    }\n",
       "</style>\n",
       "<table border=\"1\" class=\"dataframe\">\n",
       "  <thead>\n",
       "    <tr style=\"text-align: right;\">\n",
       "      <th></th>\n",
       "      <th>HomeTeam</th>\n",
       "      <th>AwayTeam</th>\n",
       "      <th>HTHG</th>\n",
       "      <th>HTAG</th>\n",
       "      <th>HTR</th>\n",
       "      <th>HS</th>\n",
       "      <th>AS</th>\n",
       "      <th>HST</th>\n",
       "      <th>AST</th>\n",
       "      <th>HF</th>\n",
       "      <th>AF</th>\n",
       "      <th>HC</th>\n",
       "      <th>AC</th>\n",
       "    </tr>\n",
       "  </thead>\n",
       "  <tbody>\n",
       "    <tr>\n",
       "      <td>HomeTeam</td>\n",
       "      <td>1.000000</td>\n",
       "      <td>-0.046946</td>\n",
       "      <td>0.000821</td>\n",
       "      <td>-0.040918</td>\n",
       "      <td>0.024040</td>\n",
       "      <td>0.060056</td>\n",
       "      <td>0.026261</td>\n",
       "      <td>0.026177</td>\n",
       "      <td>0.010910</td>\n",
       "      <td>0.014629</td>\n",
       "      <td>0.055605</td>\n",
       "      <td>0.038773</td>\n",
       "      <td>0.036823</td>\n",
       "    </tr>\n",
       "    <tr>\n",
       "      <td>AwayTeam</td>\n",
       "      <td>-0.046946</td>\n",
       "      <td>1.000000</td>\n",
       "      <td>-0.027036</td>\n",
       "      <td>-0.013577</td>\n",
       "      <td>0.002724</td>\n",
       "      <td>-0.028152</td>\n",
       "      <td>0.030119</td>\n",
       "      <td>-0.023762</td>\n",
       "      <td>0.015520</td>\n",
       "      <td>0.004926</td>\n",
       "      <td>-0.012998</td>\n",
       "      <td>0.022427</td>\n",
       "      <td>0.071642</td>\n",
       "    </tr>\n",
       "    <tr>\n",
       "      <td>HTHG</td>\n",
       "      <td>0.000821</td>\n",
       "      <td>-0.027036</td>\n",
       "      <td>1.000000</td>\n",
       "      <td>-0.072001</td>\n",
       "      <td>0.665477</td>\n",
       "      <td>0.155435</td>\n",
       "      <td>-0.048216</td>\n",
       "      <td>0.408615</td>\n",
       "      <td>-0.080869</td>\n",
       "      <td>-0.066694</td>\n",
       "      <td>0.049078</td>\n",
       "      <td>-0.041039</td>\n",
       "      <td>0.017694</td>\n",
       "    </tr>\n",
       "    <tr>\n",
       "      <td>HTAG</td>\n",
       "      <td>-0.040918</td>\n",
       "      <td>-0.013577</td>\n",
       "      <td>-0.072001</td>\n",
       "      <td>1.000000</td>\n",
       "      <td>-0.664186</td>\n",
       "      <td>-0.117916</td>\n",
       "      <td>0.188188</td>\n",
       "      <td>-0.123241</td>\n",
       "      <td>0.396402</td>\n",
       "      <td>0.065537</td>\n",
       "      <td>-0.000241</td>\n",
       "      <td>-0.101212</td>\n",
       "      <td>-0.064199</td>\n",
       "    </tr>\n",
       "    <tr>\n",
       "      <td>HTR</td>\n",
       "      <td>0.024040</td>\n",
       "      <td>0.002724</td>\n",
       "      <td>0.665477</td>\n",
       "      <td>-0.664186</td>\n",
       "      <td>1.000000</td>\n",
       "      <td>0.168810</td>\n",
       "      <td>-0.157025</td>\n",
       "      <td>0.334990</td>\n",
       "      <td>-0.308912</td>\n",
       "      <td>-0.085993</td>\n",
       "      <td>0.029714</td>\n",
       "      <td>0.039268</td>\n",
       "      <td>0.055323</td>\n",
       "    </tr>\n",
       "    <tr>\n",
       "      <td>HS</td>\n",
       "      <td>0.060056</td>\n",
       "      <td>-0.028152</td>\n",
       "      <td>0.155435</td>\n",
       "      <td>-0.117916</td>\n",
       "      <td>0.168810</td>\n",
       "      <td>1.000000</td>\n",
       "      <td>-0.492059</td>\n",
       "      <td>0.708889</td>\n",
       "      <td>-0.317591</td>\n",
       "      <td>-0.121702</td>\n",
       "      <td>0.016326</td>\n",
       "      <td>0.581969</td>\n",
       "      <td>-0.403654</td>\n",
       "    </tr>\n",
       "    <tr>\n",
       "      <td>AS</td>\n",
       "      <td>0.026261</td>\n",
       "      <td>0.030119</td>\n",
       "      <td>-0.048216</td>\n",
       "      <td>0.188188</td>\n",
       "      <td>-0.157025</td>\n",
       "      <td>-0.492059</td>\n",
       "      <td>1.000000</td>\n",
       "      <td>-0.343100</td>\n",
       "      <td>0.681688</td>\n",
       "      <td>0.087664</td>\n",
       "      <td>-0.051913</td>\n",
       "      <td>-0.383816</td>\n",
       "      <td>0.549852</td>\n",
       "    </tr>\n",
       "    <tr>\n",
       "      <td>HST</td>\n",
       "      <td>0.026177</td>\n",
       "      <td>-0.023762</td>\n",
       "      <td>0.408615</td>\n",
       "      <td>-0.123241</td>\n",
       "      <td>0.334990</td>\n",
       "      <td>0.708889</td>\n",
       "      <td>-0.343100</td>\n",
       "      <td>1.000000</td>\n",
       "      <td>-0.237640</td>\n",
       "      <td>-0.040493</td>\n",
       "      <td>0.004456</td>\n",
       "      <td>0.367217</td>\n",
       "      <td>-0.257454</td>\n",
       "    </tr>\n",
       "    <tr>\n",
       "      <td>AST</td>\n",
       "      <td>0.010910</td>\n",
       "      <td>0.015520</td>\n",
       "      <td>-0.080869</td>\n",
       "      <td>0.396402</td>\n",
       "      <td>-0.308912</td>\n",
       "      <td>-0.317591</td>\n",
       "      <td>0.681688</td>\n",
       "      <td>-0.237640</td>\n",
       "      <td>1.000000</td>\n",
       "      <td>0.099235</td>\n",
       "      <td>-0.058729</td>\n",
       "      <td>-0.236496</td>\n",
       "      <td>0.288963</td>\n",
       "    </tr>\n",
       "    <tr>\n",
       "      <td>HF</td>\n",
       "      <td>0.014629</td>\n",
       "      <td>0.004926</td>\n",
       "      <td>-0.066694</td>\n",
       "      <td>0.065537</td>\n",
       "      <td>-0.085993</td>\n",
       "      <td>-0.121702</td>\n",
       "      <td>0.087664</td>\n",
       "      <td>-0.040493</td>\n",
       "      <td>0.099235</td>\n",
       "      <td>1.000000</td>\n",
       "      <td>0.112903</td>\n",
       "      <td>-0.073759</td>\n",
       "      <td>0.001881</td>\n",
       "    </tr>\n",
       "    <tr>\n",
       "      <td>AF</td>\n",
       "      <td>0.055605</td>\n",
       "      <td>-0.012998</td>\n",
       "      <td>0.049078</td>\n",
       "      <td>-0.000241</td>\n",
       "      <td>0.029714</td>\n",
       "      <td>0.016326</td>\n",
       "      <td>-0.051913</td>\n",
       "      <td>0.004456</td>\n",
       "      <td>-0.058729</td>\n",
       "      <td>0.112903</td>\n",
       "      <td>1.000000</td>\n",
       "      <td>0.023494</td>\n",
       "      <td>-0.050159</td>\n",
       "    </tr>\n",
       "    <tr>\n",
       "      <td>HC</td>\n",
       "      <td>0.038773</td>\n",
       "      <td>0.022427</td>\n",
       "      <td>-0.041039</td>\n",
       "      <td>-0.101212</td>\n",
       "      <td>0.039268</td>\n",
       "      <td>0.581969</td>\n",
       "      <td>-0.383816</td>\n",
       "      <td>0.367217</td>\n",
       "      <td>-0.236496</td>\n",
       "      <td>-0.073759</td>\n",
       "      <td>0.023494</td>\n",
       "      <td>1.000000</td>\n",
       "      <td>-0.342131</td>\n",
       "    </tr>\n",
       "    <tr>\n",
       "      <td>AC</td>\n",
       "      <td>0.036823</td>\n",
       "      <td>0.071642</td>\n",
       "      <td>0.017694</td>\n",
       "      <td>-0.064199</td>\n",
       "      <td>0.055323</td>\n",
       "      <td>-0.403654</td>\n",
       "      <td>0.549852</td>\n",
       "      <td>-0.257454</td>\n",
       "      <td>0.288963</td>\n",
       "      <td>0.001881</td>\n",
       "      <td>-0.050159</td>\n",
       "      <td>-0.342131</td>\n",
       "      <td>1.000000</td>\n",
       "    </tr>\n",
       "  </tbody>\n",
       "</table>\n",
       "</div>"
      ],
      "text/plain": [
       "          HomeTeam  AwayTeam      HTHG      HTAG       HTR        HS  \\\n",
       "HomeTeam  1.000000 -0.046946  0.000821 -0.040918  0.024040  0.060056   \n",
       "AwayTeam -0.046946  1.000000 -0.027036 -0.013577  0.002724 -0.028152   \n",
       "HTHG      0.000821 -0.027036  1.000000 -0.072001  0.665477  0.155435   \n",
       "HTAG     -0.040918 -0.013577 -0.072001  1.000000 -0.664186 -0.117916   \n",
       "HTR       0.024040  0.002724  0.665477 -0.664186  1.000000  0.168810   \n",
       "HS        0.060056 -0.028152  0.155435 -0.117916  0.168810  1.000000   \n",
       "AS        0.026261  0.030119 -0.048216  0.188188 -0.157025 -0.492059   \n",
       "HST       0.026177 -0.023762  0.408615 -0.123241  0.334990  0.708889   \n",
       "AST       0.010910  0.015520 -0.080869  0.396402 -0.308912 -0.317591   \n",
       "HF        0.014629  0.004926 -0.066694  0.065537 -0.085993 -0.121702   \n",
       "AF        0.055605 -0.012998  0.049078 -0.000241  0.029714  0.016326   \n",
       "HC        0.038773  0.022427 -0.041039 -0.101212  0.039268  0.581969   \n",
       "AC        0.036823  0.071642  0.017694 -0.064199  0.055323 -0.403654   \n",
       "\n",
       "                AS       HST       AST        HF        AF        HC        AC  \n",
       "HomeTeam  0.026261  0.026177  0.010910  0.014629  0.055605  0.038773  0.036823  \n",
       "AwayTeam  0.030119 -0.023762  0.015520  0.004926 -0.012998  0.022427  0.071642  \n",
       "HTHG     -0.048216  0.408615 -0.080869 -0.066694  0.049078 -0.041039  0.017694  \n",
       "HTAG      0.188188 -0.123241  0.396402  0.065537 -0.000241 -0.101212 -0.064199  \n",
       "HTR      -0.157025  0.334990 -0.308912 -0.085993  0.029714  0.039268  0.055323  \n",
       "HS       -0.492059  0.708889 -0.317591 -0.121702  0.016326  0.581969 -0.403654  \n",
       "AS        1.000000 -0.343100  0.681688  0.087664 -0.051913 -0.383816  0.549852  \n",
       "HST      -0.343100  1.000000 -0.237640 -0.040493  0.004456  0.367217 -0.257454  \n",
       "AST       0.681688 -0.237640  1.000000  0.099235 -0.058729 -0.236496  0.288963  \n",
       "HF        0.087664 -0.040493  0.099235  1.000000  0.112903 -0.073759  0.001881  \n",
       "AF       -0.051913  0.004456 -0.058729  0.112903  1.000000  0.023494 -0.050159  \n",
       "HC       -0.383816  0.367217 -0.236496 -0.073759  0.023494  1.000000 -0.342131  \n",
       "AC        0.549852 -0.257454  0.288963  0.001881 -0.050159 -0.342131  1.000000  "
      ]
     },
     "execution_count": 17,
     "metadata": {},
     "output_type": "execute_result"
    }
   ],
   "source": [
    "corr"
   ]
  },
  {
   "cell_type": "code",
   "execution_count": 18,
   "metadata": {},
   "outputs": [
    {
     "data": {
      "text/plain": [
       "(13.0, 0.0)"
      ]
     },
     "execution_count": 18,
     "metadata": {},
     "output_type": "execute_result"
    },
    {
     "data": {
      "image/png": "[encoded data removed]",
      "text/plain": [
       "<Figure size 1224x720 with 2 Axes>"
      ]
     },
     "metadata": {
      "needs_background": "light"
     },
     "output_type": "display_data"
    }
   ],
   "source": [
    "plt.figure(figsize=(17,10))\n",
    "ax = sns.heatmap(corr, vmin = -1, vmax = 1, center = 0, cmap=sns.diverging_palette(20, 220, n=200), square = True, annot=True)\n",
    "bottom, top = ax.get_ylim()\n",
    "ax.set_ylim(bottom + 0.5, top - 0.5)"
   ]
  },
  {
   "cell_type": "markdown",
   "metadata": {},
   "source": [
    "***From the heatmap above, we can find high correlations:<br>\n",
    "<br>\n",
    "(HS, HST) = 0.71<br>\n",
    "(AS, AST) = 0.68<br>\n",
    "(HTHG, HTR) = 0.67<br>\n",
    "(HC, HS) = 0.58<br>\n",
    "(AC, AS) = 0.55<br>\n",
    "(HTHG, HST) = 0.41<br>\n",
    "(HTAG, AST) = 0.40<br>***"
   ]
  },
  {
   "cell_type": "code",
   "execution_count": 19,
   "metadata": {},
   "outputs": [],
   "source": [
    "df_pairplot = train_x[[\"HS\", \"HST\" ]]"
   ]
  },
  {
   "cell_type": "code",
   "execution_count": 20,
   "metadata": {},
   "outputs": [
    {
     "data": {
      "text/plain": [
       "Text(0.5, 0.98, 'Home Shot / Home Shot on Target')"
      ]
     },
     "execution_count": 20,
     "metadata": {},
     "output_type": "execute_result"
    },
    {
     "data": {
      "image/png": "[encoded data removed]",
      "text/plain": [
       "<Figure size 360x360 with 6 Axes>"
      ]
     },
     "metadata": {
      "needs_background": "light"
     },
     "output_type": "display_data"
    }
   ],
   "source": [
    "g = sns.pairplot(df_pairplot)\n",
    "g.fig.suptitle(\"Home Shot / Home Shot on Target\")"
   ]
  },
  {
   "cell_type": "code",
   "execution_count": 21,
   "metadata": {},
   "outputs": [],
   "source": [
    "df_pairplot_2 = train_x[[\"HTHG\", \"HTAG\", \"HTR\"]]"
   ]
  },
  {
   "cell_type": "code",
   "execution_count": 22,
   "metadata": {},
   "outputs": [
    {
     "data": {
      "text/plain": [
       "<seaborn.axisgrid.PairGrid at 0x1a25b2bd50>"
      ]
     },
     "execution_count": 22,
     "metadata": {},
     "output_type": "execute_result"
    },
    {
     "data": {
      "image/png": "[encoded data removed]",
      "text/plain": [
       "<Figure size 540x540 with 12 Axes>"
      ]
     },
     "metadata": {
      "needs_background": "light"
     },
     "output_type": "display_data"
    }
   ],
   "source": [
    "sns.pairplot(df_pairplot_2)"
   ]
  },
  {
   "cell_type": "markdown",
   "metadata": {},
   "source": [
    "sns.boxplot(x=\"HomeTeam\", y=\"HTHG\", data=train_x, palette=\"rainbow\")"
   ]
  },
  {
   "cell_type": "code",
   "execution_count": 23,
   "metadata": {},
   "outputs": [
    {
     "data": {
      "text/plain": [
       "<matplotlib.axes._subplots.AxesSubplot at 0x1a25f84b90>"
      ]
     },
     "execution_count": 23,
     "metadata": {},
     "output_type": "execute_result"
    },
    {
     "data": {
      "image/png": "[encoded data removed]",
      "text/plain": [
       "<Figure size 432x288 with 1 Axes>"
      ]
     },
     "metadata": {
      "needs_background": "light"
     },
     "output_type": "display_data"
    }
   ],
   "source": [
    "sns.boxplot(x=\"AwayTeam\", y=\"HTAG\", data=train_x, palette=\"rainbow\")"
   ]
  },
  {
   "cell_type": "markdown",
   "metadata": {},
   "source": [
    "***It can be said that the team number 20 made most half time goals as both home team and away team***"
   ]
  },
  {
   "cell_type": "code",
   "execution_count": 24,
   "metadata": {},
   "outputs": [
    {
     "data": {
      "text/plain": [
       "53"
      ]
     },
     "execution_count": 24,
     "metadata": {},
     "output_type": "execute_result"
    }
   ],
   "source": [
    "# It is possible to compare all halftime goals (HTHG + HTAG) of each team \n",
    "train_x[train_x[\"HomeTeam\"] == 20][\"HTHG\"].sum()"
   ]
  },
  {
   "cell_type": "markdown",
   "metadata": {},
   "source": [
    "# ***2. Principal Component Analysis***"
   ]
  },
  {
   "cell_type": "code",
   "execution_count": 25,
   "metadata": {},
   "outputs": [
    {
     "data": {
      "text/html": [
       "<div>\n",
       "<style scoped>\n",
       "    .dataframe tbody tr th:only-of-type {\n",
       "        vertical-align: middle;\n",
       "    }\n",
       "\n",
       "    .dataframe tbody tr th {\n",
       "        vertical-align: top;\n",
       "    }\n",
       "\n",
       "    .dataframe thead th {\n",
       "        text-align: right;\n",
       "    }\n",
       "</style>\n",
       "<table border=\"1\" class=\"dataframe\">\n",
       "  <thead>\n",
       "    <tr style=\"text-align: right;\">\n",
       "      <th></th>\n",
       "      <th>HomeTeam</th>\n",
       "      <th>AwayTeam</th>\n",
       "      <th>HTHG</th>\n",
       "      <th>HTAG</th>\n",
       "      <th>HTR</th>\n",
       "      <th>HS</th>\n",
       "      <th>AS</th>\n",
       "      <th>HST</th>\n",
       "      <th>AST</th>\n",
       "      <th>HF</th>\n",
       "      <th>AF</th>\n",
       "      <th>HC</th>\n",
       "      <th>AC</th>\n",
       "    </tr>\n",
       "  </thead>\n",
       "  <tbody>\n",
       "    <tr>\n",
       "      <td>0</td>\n",
       "      <td>19</td>\n",
       "      <td>8</td>\n",
       "      <td>2</td>\n",
       "      <td>1</td>\n",
       "      <td>1</td>\n",
       "      <td>18</td>\n",
       "      <td>6</td>\n",
       "      <td>7</td>\n",
       "      <td>2</td>\n",
       "      <td>8</td>\n",
       "      <td>10</td>\n",
       "      <td>5</td>\n",
       "      <td>4</td>\n",
       "    </tr>\n",
       "    <tr>\n",
       "      <td>1</td>\n",
       "      <td>24</td>\n",
       "      <td>16</td>\n",
       "      <td>2</td>\n",
       "      <td>0</td>\n",
       "      <td>1</td>\n",
       "      <td>12</td>\n",
       "      <td>8</td>\n",
       "      <td>6</td>\n",
       "      <td>3</td>\n",
       "      <td>12</td>\n",
       "      <td>13</td>\n",
       "      <td>5</td>\n",
       "      <td>1</td>\n",
       "    </tr>\n",
       "    <tr>\n",
       "      <td>2</td>\n",
       "      <td>3</td>\n",
       "      <td>12</td>\n",
       "      <td>0</td>\n",
       "      <td>0</td>\n",
       "      <td>0</td>\n",
       "      <td>13</td>\n",
       "      <td>8</td>\n",
       "      <td>4</td>\n",
       "      <td>4</td>\n",
       "      <td>8</td>\n",
       "      <td>8</td>\n",
       "      <td>0</td>\n",
       "      <td>11</td>\n",
       "    </tr>\n",
       "    <tr>\n",
       "      <td>3</td>\n",
       "      <td>2</td>\n",
       "      <td>20</td>\n",
       "      <td>0</td>\n",
       "      <td>0</td>\n",
       "      <td>0</td>\n",
       "      <td>7</td>\n",
       "      <td>6</td>\n",
       "      <td>2</td>\n",
       "      <td>2</td>\n",
       "      <td>10</td>\n",
       "      <td>10</td>\n",
       "      <td>2</td>\n",
       "      <td>6</td>\n",
       "    </tr>\n",
       "    <tr>\n",
       "      <td>4</td>\n",
       "      <td>24</td>\n",
       "      <td>9</td>\n",
       "      <td>0</td>\n",
       "      <td>1</td>\n",
       "      <td>-1</td>\n",
       "      <td>14</td>\n",
       "      <td>11</td>\n",
       "      <td>6</td>\n",
       "      <td>3</td>\n",
       "      <td>13</td>\n",
       "      <td>16</td>\n",
       "      <td>4</td>\n",
       "      <td>5</td>\n",
       "    </tr>\n",
       "  </tbody>\n",
       "</table>\n",
       "</div>"
      ],
      "text/plain": [
       "   HomeTeam  AwayTeam  HTHG  HTAG  HTR  HS  AS  HST  AST  HF  AF  HC  AC\n",
       "0        19         8     2     1    1  18   6    7    2   8  10   5   4\n",
       "1        24        16     2     0    1  12   8    6    3  12  13   5   1\n",
       "2         3        12     0     0    0  13   8    4    4   8   8   0  11\n",
       "3         2        20     0     0    0   7   6    2    2  10  10   2   6\n",
       "4        24         9     0     1   -1  14  11    6    3  13  16   4   5"
      ]
     },
     "execution_count": 25,
     "metadata": {},
     "output_type": "execute_result"
    }
   ],
   "source": [
    "train_x.head()"
   ]
  },
  {
   "cell_type": "code",
   "execution_count": 26,
   "metadata": {},
   "outputs": [],
   "source": [
    "new_train_x = train_x[['HTHG', 'HTAG', 'HTR', 'HS', 'AS', 'HST', 'AST', 'HF', 'AF', 'HC', 'AC']]"
   ]
  },
  {
   "cell_type": "code",
   "execution_count": 27,
   "metadata": {},
   "outputs": [],
   "source": [
    "new_test_x = test_x[['HTHG', 'HTAG', 'HTR', 'HS', 'AS', 'HST', 'AST', 'HF', 'AF', 'HC', 'AC']]"
   ]
  },
  {
   "cell_type": "code",
   "execution_count": 28,
   "metadata": {},
   "outputs": [],
   "source": [
    "new_train_y = train_y[['FTG']]"
   ]
  },
  {
   "cell_type": "code",
   "execution_count": 29,
   "metadata": {},
   "outputs": [],
   "source": [
    "new_test_y = test_y[['FTG']]"
   ]
  },
  {
   "cell_type": "code",
   "execution_count": 85,
   "metadata": {},
   "outputs": [],
   "source": [
    "#scaler = MinMaxScaler(feature_range=[0, 1])\n",
    "scaler = StandardScaler()"
   ]
  },
  {
   "cell_type": "code",
   "execution_count": 86,
   "metadata": {},
   "outputs": [],
   "source": [
    "scaled_train_x = scaler.fit_transform(new_train_x)"
   ]
  },
  {
   "cell_type": "code",
   "execution_count": 87,
   "metadata": {},
   "outputs": [
    {
     "data": {
      "text/plain": [
       "array([[ 1.63780053,  0.59791921,  1.22580442, ..., -0.23777807,\n",
       "        -0.22000597, -0.19758706],\n",
       "       [ 1.63780053, -0.71651476,  1.22580442, ...,  0.63262054,\n",
       "        -0.22000597, -1.29001992],\n",
       "       [-0.77803093, -0.71651476, -0.07845148, ..., -0.8180438 ,\n",
       "        -1.86695496,  2.35142294],\n",
       "       ...,\n",
       "       [-0.77803093,  1.91235319, -1.38270739, ...,  0.63262054,\n",
       "        -1.20817536, -0.56173135],\n",
       "       [ 0.4298848 , -0.71651476,  1.22580442, ...,  1.79315202,\n",
       "        -0.22000597, -0.19758706],\n",
       "       [ 0.4298848 ,  0.59791921, -0.07845148, ...,  0.63262054,\n",
       "         1.09755322, -0.92587564]])"
      ]
     },
     "execution_count": 87,
     "metadata": {},
     "output_type": "execute_result"
    }
   ],
   "source": [
    "scaled_train_x›"
   ]
  },
  {
   "cell_type": "code",
   "execution_count": 88,
   "metadata": {},
   "outputs": [],
   "source": [
    "scaled_test_x = scaler.fit_transform(new_test_x)"
   ]
  },
  {
   "cell_type": "code",
   "execution_count": 89,
   "metadata": {},
   "outputs": [
    {
     "data": {
      "text/plain": [
       "array([[-0.82717683, -0.67252075, -0.17245937, ...,  0.04889961,\n",
       "         2.44640358,  0.81745092],\n",
       "       [-0.82717683,  0.65697114, -1.48315057, ...,  0.32305805,\n",
       "         0.75067998, -0.66566959],\n",
       "       [ 0.33699797,  0.65697114, -0.17245937, ...,  0.32305805,\n",
       "        -0.26675418,  0.07589067],\n",
       "       ...,\n",
       "       [-0.82717683,  0.65697114, -1.48315057, ..., -0.77357574,\n",
       "         0.41153526, -0.29488946],\n",
       "       [-0.82717683, -0.67252075, -0.17245937, ...,  0.5972165 ,\n",
       "        -1.28418834, -1.40722984],\n",
       "       [ 1.50117276, -0.67252075,  1.13823184, ...,  1.41969185,\n",
       "        -1.62333306,  3.04213169]])"
      ]
     },
     "execution_count": 89,
     "metadata": {},
     "output_type": "execute_result"
    }
   ],
   "source": [
    "scaled_test_x"
   ]
  },
  {
   "cell_type": "code",
   "execution_count": 114,
   "metadata": {},
   "outputs": [],
   "source": [
    "pca = PCA(n_components=8).fit(scaled_train_x)"
   ]
  },
  {
   "cell_type": "code",
   "execution_count": 115,
   "metadata": {},
   "outputs": [],
   "source": [
    "train_x_pca = pca.transform(scaled_train_x)"
   ]
  },
  {
   "cell_type": "code",
   "execution_count": 116,
   "metadata": {},
   "outputs": [],
   "source": [
    "test_x_pca = pca.transform(scaled_test_x)"
   ]
  },
  {
   "cell_type": "code",
   "execution_count": 113,
   "metadata": {},
   "outputs": [
    {
     "data": {
      "image/png": "[encoded data removed]",
      "text/plain": [
       "<Figure size 432x288 with 1 Axes>"
      ]
     },
     "metadata": {
      "needs_background": "light"
     },
     "output_type": "display_data"
    }
   ],
   "source": [
    "plt.figure()\n",
    "plt.plot(np.arange(1,12,1),np.cumsum(pca.explained_variance_ratio_), marker='o',\n",
    "         markerfacecolor='red', markersize=7)\n",
    "plt.xlabel('Number of Components')\n",
    "plt.ylabel('Variance (%)') #for each component\n",
    "plt.show()"
   ]
  },
  {
   "cell_type": "code",
   "execution_count": 39,
   "metadata": {},
   "outputs": [
    {
     "ename": "AttributeError",
     "evalue": "'numpy.ndarray' object has no attribute 'explained_variance_ratio_'",
     "output_type": "error",
     "traceback": [
      "\u001b[0;31m---------------------------------------------------------------------------\u001b[0m",
      "\u001b[0;31mAttributeError\u001b[0m                            Traceback (most recent call last)",
      "\u001b[0;32m<ipython-input-39-2744b6a4e858>\u001b[0m in \u001b[0;36m<module>\u001b[0;34m\u001b[0m\n\u001b[1;32m      1\u001b[0m \u001b[0mplt\u001b[0m\u001b[0;34m.\u001b[0m\u001b[0mfigure\u001b[0m\u001b[0;34m(\u001b[0m\u001b[0;34m)\u001b[0m\u001b[0;34m\u001b[0m\u001b[0;34m\u001b[0m\u001b[0m\n\u001b[0;32m----> 2\u001b[0;31m \u001b[0mplt\u001b[0m\u001b[0;34m.\u001b[0m\u001b[0mplot\u001b[0m\u001b[0;34m(\u001b[0m\u001b[0mnp\u001b[0m\u001b[0;34m.\u001b[0m\u001b[0mcumsum\u001b[0m\u001b[0;34m(\u001b[0m\u001b[0mtest_x_pca\u001b[0m\u001b[0;34m.\u001b[0m\u001b[0mexplained_variance_ratio_\u001b[0m\u001b[0;34m)\u001b[0m\u001b[0;34m)\u001b[0m\u001b[0;34m\u001b[0m\u001b[0;34m\u001b[0m\u001b[0m\n\u001b[0m\u001b[1;32m      3\u001b[0m \u001b[0mplt\u001b[0m\u001b[0;34m.\u001b[0m\u001b[0mxlabel\u001b[0m\u001b[0;34m(\u001b[0m\u001b[0;34m'Number of Components'\u001b[0m\u001b[0;34m)\u001b[0m\u001b[0;34m\u001b[0m\u001b[0;34m\u001b[0m\u001b[0m\n\u001b[1;32m      4\u001b[0m \u001b[0mplt\u001b[0m\u001b[0;34m.\u001b[0m\u001b[0mylabel\u001b[0m\u001b[0;34m(\u001b[0m\u001b[0;34m'Variance (%)'\u001b[0m\u001b[0;34m)\u001b[0m \u001b[0;31m#for each component\u001b[0m\u001b[0;34m\u001b[0m\u001b[0;34m\u001b[0m\u001b[0m\n\u001b[1;32m      5\u001b[0m \u001b[0mplt\u001b[0m\u001b[0;34m.\u001b[0m\u001b[0mtitle\u001b[0m\u001b[0;34m(\u001b[0m\u001b[0;34m\"test_x PCA explained variance\"\u001b[0m\u001b[0;34m)\u001b[0m\u001b[0;34m\u001b[0m\u001b[0;34m\u001b[0m\u001b[0m\n",
      "\u001b[0;31mAttributeError\u001b[0m: 'numpy.ndarray' object has no attribute 'explained_variance_ratio_'"
     ]
    },
    {
     "data": {
      "text/plain": [
       "<Figure size 432x288 with 0 Axes>"
      ]
     },
     "metadata": {},
     "output_type": "display_data"
    }
   ],
   "source": [
    "plt.figure()\n",
    "plt.plot(np.cumsum(test_x_pca.explained_variance_ratio_))\n",
    "plt.xlabel('Number of Components')\n",
    "plt.ylabel('Variance (%)') #for each component\n",
    "plt.title(\"test_x PCA explained variance\")\n",
    "plt.show()"
   ]
  },
  {
   "cell_type": "code",
   "execution_count": null,
   "metadata": {},
   "outputs": [],
   "source": [
    "scaled_train_x.shape"
   ]
  },
  {
   "cell_type": "code",
   "execution_count": null,
   "metadata": {},
   "outputs": [],
   "source": [
    "train_x_pca.shape"
   ]
  },
  {
   "cell_type": "code",
   "execution_count": null,
   "metadata": {},
   "outputs": [],
   "source": [
    "scaled_test_x.shape"
   ]
  },
  {
   "cell_type": "code",
   "execution_count": null,
   "metadata": {},
   "outputs": [],
   "source": [
    "test_x_pca.shape"
   ]
  },
  {
   "cell_type": "code",
   "execution_count": null,
   "metadata": {},
   "outputs": [],
   "source": [
    "train_x_pca[:5]"
   ]
  },
  {
   "cell_type": "code",
   "execution_count": null,
   "metadata": {},
   "outputs": [],
   "source": [
    "test_x_pca[:5]"
   ]
  },
  {
   "cell_type": "markdown",
   "metadata": {},
   "source": [
    "# Linear Regression"
   ]
  },
  {
   "cell_type": "code",
   "execution_count": null,
   "metadata": {},
   "outputs": [],
   "source": [
    "# X = test_x.iloc[:,2:]"
   ]
  },
  {
   "cell_type": "code",
   "execution_count": null,
   "metadata": {},
   "outputs": [],
   "source": [
    "# y = test_y[\"FTG\"]"
   ]
  },
  {
   "cell_type": "code",
   "execution_count": 99,
   "metadata": {},
   "outputs": [],
   "source": [
    "#X_train = scaled_train_x\n",
    "#X_test = scaled_test_x\n",
    "\n",
    "x_train = train_x.iloc[:,2:]\n",
    "x_test = test_x.iloc[:,2:]\n",
    "\n",
    "#X_train = train_x_pca\n",
    "#X_test = test_x_pca\n",
    "\n",
    "y_train = train_y[\"FTG\"]\n",
    "y_test = test_y[\"FTG\"]"
   ]
  },
  {
   "cell_type": "code",
   "execution_count": 100,
   "metadata": {},
   "outputs": [],
   "source": [
    "lm = LinearRegression()"
   ]
  },
  {
   "cell_type": "code",
   "execution_count": 101,
   "metadata": {},
   "outputs": [
    {
     "data": {
      "text/plain": [
       "LinearRegression(copy_X=True, fit_intercept=True, n_jobs=None, normalize=False)"
      ]
     },
     "execution_count": 101,
     "metadata": {},
     "output_type": "execute_result"
    }
   ],
   "source": [
    "# lm.fit(X_train, y_train)\n",
    "lm.fit(X_train, y_train)"
   ]
  },
  {
   "cell_type": "code",
   "execution_count": 102,
   "metadata": {},
   "outputs": [
    {
     "data": {
      "text/plain": [
       "array([ 0.71653537,  0.5618212 , -0.07308082, -0.03489569, -0.06412117,\n",
       "        0.44825607,  0.42318644, -0.00741519, -0.08382943, -0.1143037 ,\n",
       "       -0.03525188])"
      ]
     },
     "execution_count": 102,
     "metadata": {},
     "output_type": "execute_result"
    }
   ],
   "source": [
    "lm.coef_"
   ]
  },
  {
   "cell_type": "code",
   "execution_count": 103,
   "metadata": {},
   "outputs": [
    {
     "data": {
      "text/html": [
       "<div>\n",
       "<style scoped>\n",
       "    .dataframe tbody tr th:only-of-type {\n",
       "        vertical-align: middle;\n",
       "    }\n",
       "\n",
       "    .dataframe tbody tr th {\n",
       "        vertical-align: top;\n",
       "    }\n",
       "\n",
       "    .dataframe thead th {\n",
       "        text-align: right;\n",
       "    }\n",
       "</style>\n",
       "<table border=\"1\" class=\"dataframe\">\n",
       "  <thead>\n",
       "    <tr style=\"text-align: right;\">\n",
       "      <th></th>\n",
       "      <th>Coefficient</th>\n",
       "    </tr>\n",
       "  </thead>\n",
       "  <tbody>\n",
       "    <tr>\n",
       "      <td>HTHG</td>\n",
       "      <td>0.716535</td>\n",
       "    </tr>\n",
       "    <tr>\n",
       "      <td>HTAG</td>\n",
       "      <td>0.561821</td>\n",
       "    </tr>\n",
       "    <tr>\n",
       "      <td>HTR</td>\n",
       "      <td>-0.073081</td>\n",
       "    </tr>\n",
       "    <tr>\n",
       "      <td>HS</td>\n",
       "      <td>-0.034896</td>\n",
       "    </tr>\n",
       "    <tr>\n",
       "      <td>AS</td>\n",
       "      <td>-0.064121</td>\n",
       "    </tr>\n",
       "    <tr>\n",
       "      <td>HST</td>\n",
       "      <td>0.448256</td>\n",
       "    </tr>\n",
       "    <tr>\n",
       "      <td>AST</td>\n",
       "      <td>0.423186</td>\n",
       "    </tr>\n",
       "    <tr>\n",
       "      <td>HF</td>\n",
       "      <td>-0.007415</td>\n",
       "    </tr>\n",
       "    <tr>\n",
       "      <td>AF</td>\n",
       "      <td>-0.083829</td>\n",
       "    </tr>\n",
       "    <tr>\n",
       "      <td>HC</td>\n",
       "      <td>-0.114304</td>\n",
       "    </tr>\n",
       "    <tr>\n",
       "      <td>AC</td>\n",
       "      <td>-0.035252</td>\n",
       "    </tr>\n",
       "  </tbody>\n",
       "</table>\n",
       "</div>"
      ],
      "text/plain": [
       "      Coefficient\n",
       "HTHG     0.716535\n",
       "HTAG     0.561821\n",
       "HTR     -0.073081\n",
       "HS      -0.034896\n",
       "AS      -0.064121\n",
       "HST      0.448256\n",
       "AST      0.423186\n",
       "HF      -0.007415\n",
       "AF      -0.083829\n",
       "HC      -0.114304\n",
       "AC      -0.035252"
      ]
     },
     "execution_count": 103,
     "metadata": {},
     "output_type": "execute_result"
    }
   ],
   "source": [
    "cdf = pd.DataFrame(data=lm.coef_, index=train_x.iloc[:,2:].columns, columns=['Coefficient'])\n",
    "cdf"
   ]
  },
  {
   "cell_type": "code",
   "execution_count": 104,
   "metadata": {},
   "outputs": [
    {
     "data": {
      "text/html": [
       "<div>\n",
       "<style scoped>\n",
       "    .dataframe tbody tr th:only-of-type {\n",
       "        vertical-align: middle;\n",
       "    }\n",
       "\n",
       "    .dataframe tbody tr th {\n",
       "        vertical-align: top;\n",
       "    }\n",
       "\n",
       "    .dataframe thead th {\n",
       "        text-align: right;\n",
       "    }\n",
       "</style>\n",
       "<table border=\"1\" class=\"dataframe\">\n",
       "  <thead>\n",
       "    <tr style=\"text-align: right;\">\n",
       "      <th></th>\n",
       "      <th>Coefficient</th>\n",
       "    </tr>\n",
       "  </thead>\n",
       "  <tbody>\n",
       "    <tr>\n",
       "      <td>HTHG</td>\n",
       "      <td>0.716535</td>\n",
       "    </tr>\n",
       "    <tr>\n",
       "      <td>HTAG</td>\n",
       "      <td>0.561821</td>\n",
       "    </tr>\n",
       "    <tr>\n",
       "      <td>HTR</td>\n",
       "      <td>-0.073081</td>\n",
       "    </tr>\n",
       "    <tr>\n",
       "      <td>HS</td>\n",
       "      <td>-0.034896</td>\n",
       "    </tr>\n",
       "    <tr>\n",
       "      <td>AS</td>\n",
       "      <td>-0.064121</td>\n",
       "    </tr>\n",
       "    <tr>\n",
       "      <td>HST</td>\n",
       "      <td>0.448256</td>\n",
       "    </tr>\n",
       "    <tr>\n",
       "      <td>AST</td>\n",
       "      <td>0.423186</td>\n",
       "    </tr>\n",
       "    <tr>\n",
       "      <td>HF</td>\n",
       "      <td>-0.007415</td>\n",
       "    </tr>\n",
       "    <tr>\n",
       "      <td>AF</td>\n",
       "      <td>-0.083829</td>\n",
       "    </tr>\n",
       "    <tr>\n",
       "      <td>HC</td>\n",
       "      <td>-0.114304</td>\n",
       "    </tr>\n",
       "    <tr>\n",
       "      <td>AC</td>\n",
       "      <td>-0.035252</td>\n",
       "    </tr>\n",
       "  </tbody>\n",
       "</table>\n",
       "</div>"
      ],
      "text/plain": [
       "      Coefficient\n",
       "HTHG     0.716535\n",
       "HTAG     0.561821\n",
       "HTR     -0.073081\n",
       "HS      -0.034896\n",
       "AS      -0.064121\n",
       "HST      0.448256\n",
       "AST      0.423186\n",
       "HF      -0.007415\n",
       "AF      -0.083829\n",
       "HC      -0.114304\n",
       "AC      -0.035252"
      ]
     },
     "execution_count": 104,
     "metadata": {},
     "output_type": "execute_result"
    }
   ],
   "source": [
    "cdf"
   ]
  },
  {
   "cell_type": "code",
   "execution_count": 105,
   "metadata": {},
   "outputs": [],
   "source": [
    "predictions = lm.predict(X_test)"
   ]
  },
  {
   "cell_type": "code",
   "execution_count": 106,
   "metadata": {},
   "outputs": [
    {
     "data": {
      "text/plain": [
       "Text(0, 0.5, 'Predicted Values')"
      ]
     },
     "execution_count": 106,
     "metadata": {},
     "output_type": "execute_result"
    },
    {
     "data": {
      "image/png": "[encoded data removed]",
      "text/plain": [
       "<Figure size 432x288 with 1 Axes>"
      ]
     },
     "metadata": {
      "needs_background": "light"
     },
     "output_type": "display_data"
    }
   ],
   "source": [
    "plt.scatter(y_test, predictions)\n",
    "plt.xlabel(\"Y Test (True Values)\")\n",
    "plt.ylabel(\"Predicted Values\")"
   ]
  },
  {
   "cell_type": "code",
   "execution_count": 107,
   "metadata": {},
   "outputs": [
    {
     "data": {
      "text/plain": [
       "0.5460720251435149"
      ]
     },
     "execution_count": 107,
     "metadata": {},
     "output_type": "execute_result"
    }
   ],
   "source": [
    "metrics.explained_variance_score(y_test, predictions)"
   ]
  },
  {
   "cell_type": "code",
   "execution_count": 66,
   "metadata": {},
   "outputs": [
    {
     "name": "stdout",
     "output_type": "stream",
     "text": [
      "MAE: 0.9489268858420832\n",
      "MSE: 1.4779766566720058\n",
      "RMSE: 1.2157206326586738\n"
     ]
    }
   ],
   "source": [
    "print(\"MAE:\", metrics.mean_absolute_error(y_test, predictions))\n",
    "print(\"MSE:\", metrics.mean_squared_error(y_test, predictions))\n",
    "print(\"RMSE:\", np.sqrt(metrics.mean_squared_error(y_test, predictions)))"
   ]
  },
  {
   "cell_type": "code",
   "execution_count": 422,
   "metadata": {},
   "outputs": [
    {
     "data": {
      "image/png": "[encoded data removed]",
      "text/plain": [
       "<Figure size 432x288 with 1 Axes>"
      ]
     },
     "metadata": {
      "needs_background": "light"
     },
     "output_type": "display_data"
    }
   ],
   "source": [
    "sns.distplot((y_test-predictions),bins=30);"
   ]
  },
  {
   "cell_type": "markdown",
   "metadata": {},
   "source": [
    "# Logistic Regression"
   ]
  },
  {
   "cell_type": "code",
   "execution_count": 117,
   "metadata": {},
   "outputs": [],
   "source": [
    "logmodel = LogisticRegression()"
   ]
  },
  {
   "cell_type": "code",
   "execution_count": 118,
   "metadata": {},
   "outputs": [],
   "source": [
    "#X_train = train_x.iloc[:,2:]\n",
    "#X_test = test_x.iloc[:,2:]\n",
    "X_train = train_x_pca\n",
    "X_test = test_x_pca\n",
    "\n",
    "y_train = train_y[\"Interest\"]\n",
    "y_test = test_y[\"Interest\"]"
   ]
  },
  {
   "cell_type": "code",
   "execution_count": 119,
   "metadata": {},
   "outputs": [
    {
     "data": {
      "text/html": [
       "<div>\n",
       "<style scoped>\n",
       "    .dataframe tbody tr th:only-of-type {\n",
       "        vertical-align: middle;\n",
       "    }\n",
       "\n",
       "    .dataframe tbody tr th {\n",
       "        vertical-align: top;\n",
       "    }\n",
       "\n",
       "    .dataframe thead th {\n",
       "        text-align: right;\n",
       "    }\n",
       "</style>\n",
       "<table border=\"1\" class=\"dataframe\">\n",
       "  <thead>\n",
       "    <tr style=\"text-align: right;\">\n",
       "      <th></th>\n",
       "      <th>HomeTeam</th>\n",
       "      <th>AwayTeam</th>\n",
       "      <th>HTHG</th>\n",
       "      <th>HTAG</th>\n",
       "      <th>HTR</th>\n",
       "      <th>HS</th>\n",
       "      <th>AS</th>\n",
       "      <th>HST</th>\n",
       "      <th>AST</th>\n",
       "      <th>HF</th>\n",
       "      <th>AF</th>\n",
       "      <th>HC</th>\n",
       "      <th>AC</th>\n",
       "    </tr>\n",
       "  </thead>\n",
       "  <tbody>\n",
       "    <tr>\n",
       "      <td>0</td>\n",
       "      <td>19</td>\n",
       "      <td>8</td>\n",
       "      <td>2</td>\n",
       "      <td>1</td>\n",
       "      <td>1</td>\n",
       "      <td>18</td>\n",
       "      <td>6</td>\n",
       "      <td>7</td>\n",
       "      <td>2</td>\n",
       "      <td>8</td>\n",
       "      <td>10</td>\n",
       "      <td>5</td>\n",
       "      <td>4</td>\n",
       "    </tr>\n",
       "    <tr>\n",
       "      <td>1</td>\n",
       "      <td>24</td>\n",
       "      <td>16</td>\n",
       "      <td>2</td>\n",
       "      <td>0</td>\n",
       "      <td>1</td>\n",
       "      <td>12</td>\n",
       "      <td>8</td>\n",
       "      <td>6</td>\n",
       "      <td>3</td>\n",
       "      <td>12</td>\n",
       "      <td>13</td>\n",
       "      <td>5</td>\n",
       "      <td>1</td>\n",
       "    </tr>\n",
       "    <tr>\n",
       "      <td>2</td>\n",
       "      <td>3</td>\n",
       "      <td>12</td>\n",
       "      <td>0</td>\n",
       "      <td>0</td>\n",
       "      <td>0</td>\n",
       "      <td>13</td>\n",
       "      <td>8</td>\n",
       "      <td>4</td>\n",
       "      <td>4</td>\n",
       "      <td>8</td>\n",
       "      <td>8</td>\n",
       "      <td>0</td>\n",
       "      <td>11</td>\n",
       "    </tr>\n",
       "    <tr>\n",
       "      <td>3</td>\n",
       "      <td>2</td>\n",
       "      <td>20</td>\n",
       "      <td>0</td>\n",
       "      <td>0</td>\n",
       "      <td>0</td>\n",
       "      <td>7</td>\n",
       "      <td>6</td>\n",
       "      <td>2</td>\n",
       "      <td>2</td>\n",
       "      <td>10</td>\n",
       "      <td>10</td>\n",
       "      <td>2</td>\n",
       "      <td>6</td>\n",
       "    </tr>\n",
       "    <tr>\n",
       "      <td>4</td>\n",
       "      <td>24</td>\n",
       "      <td>9</td>\n",
       "      <td>0</td>\n",
       "      <td>1</td>\n",
       "      <td>-1</td>\n",
       "      <td>14</td>\n",
       "      <td>11</td>\n",
       "      <td>6</td>\n",
       "      <td>3</td>\n",
       "      <td>13</td>\n",
       "      <td>16</td>\n",
       "      <td>4</td>\n",
       "      <td>5</td>\n",
       "    </tr>\n",
       "    <tr>\n",
       "      <td>...</td>\n",
       "      <td>...</td>\n",
       "      <td>...</td>\n",
       "      <td>...</td>\n",
       "      <td>...</td>\n",
       "      <td>...</td>\n",
       "      <td>...</td>\n",
       "      <td>...</td>\n",
       "      <td>...</td>\n",
       "      <td>...</td>\n",
       "      <td>...</td>\n",
       "      <td>...</td>\n",
       "      <td>...</td>\n",
       "      <td>...</td>\n",
       "    </tr>\n",
       "    <tr>\n",
       "      <td>793</td>\n",
       "      <td>25</td>\n",
       "      <td>20</td>\n",
       "      <td>0</td>\n",
       "      <td>0</td>\n",
       "      <td>0</td>\n",
       "      <td>10</td>\n",
       "      <td>16</td>\n",
       "      <td>3</td>\n",
       "      <td>6</td>\n",
       "      <td>11</td>\n",
       "      <td>14</td>\n",
       "      <td>4</td>\n",
       "      <td>7</td>\n",
       "    </tr>\n",
       "    <tr>\n",
       "      <td>794</td>\n",
       "      <td>6</td>\n",
       "      <td>16</td>\n",
       "      <td>1</td>\n",
       "      <td>0</td>\n",
       "      <td>1</td>\n",
       "      <td>16</td>\n",
       "      <td>15</td>\n",
       "      <td>5</td>\n",
       "      <td>4</td>\n",
       "      <td>6</td>\n",
       "      <td>12</td>\n",
       "      <td>5</td>\n",
       "      <td>4</td>\n",
       "    </tr>\n",
       "    <tr>\n",
       "      <td>795</td>\n",
       "      <td>9</td>\n",
       "      <td>2</td>\n",
       "      <td>0</td>\n",
       "      <td>2</td>\n",
       "      <td>-1</td>\n",
       "      <td>6</td>\n",
       "      <td>15</td>\n",
       "      <td>1</td>\n",
       "      <td>7</td>\n",
       "      <td>9</td>\n",
       "      <td>13</td>\n",
       "      <td>2</td>\n",
       "      <td>3</td>\n",
       "    </tr>\n",
       "    <tr>\n",
       "      <td>796</td>\n",
       "      <td>0</td>\n",
       "      <td>7</td>\n",
       "      <td>1</td>\n",
       "      <td>0</td>\n",
       "      <td>1</td>\n",
       "      <td>15</td>\n",
       "      <td>11</td>\n",
       "      <td>6</td>\n",
       "      <td>8</td>\n",
       "      <td>5</td>\n",
       "      <td>17</td>\n",
       "      <td>5</td>\n",
       "      <td>4</td>\n",
       "    </tr>\n",
       "    <tr>\n",
       "      <td>797</td>\n",
       "      <td>12</td>\n",
       "      <td>18</td>\n",
       "      <td>1</td>\n",
       "      <td>1</td>\n",
       "      <td>0</td>\n",
       "      <td>23</td>\n",
       "      <td>6</td>\n",
       "      <td>10</td>\n",
       "      <td>4</td>\n",
       "      <td>7</td>\n",
       "      <td>13</td>\n",
       "      <td>9</td>\n",
       "      <td>2</td>\n",
       "    </tr>\n",
       "  </tbody>\n",
       "</table>\n",
       "<p>798 rows × 13 columns</p>\n",
       "</div>"
      ],
      "text/plain": [
       "     HomeTeam  AwayTeam  HTHG  HTAG  HTR  HS  AS  HST  AST  HF  AF  HC  AC\n",
       "0          19         8     2     1    1  18   6    7    2   8  10   5   4\n",
       "1          24        16     2     0    1  12   8    6    3  12  13   5   1\n",
       "2           3        12     0     0    0  13   8    4    4   8   8   0  11\n",
       "3           2        20     0     0    0   7   6    2    2  10  10   2   6\n",
       "4          24         9     0     1   -1  14  11    6    3  13  16   4   5\n",
       "..        ...       ...   ...   ...  ...  ..  ..  ...  ...  ..  ..  ..  ..\n",
       "793        25        20     0     0    0  10  16    3    6  11  14   4   7\n",
       "794         6        16     1     0    1  16  15    5    4   6  12   5   4\n",
       "795         9         2     0     2   -1   6  15    1    7   9  13   2   3\n",
       "796         0         7     1     0    1  15  11    6    8   5  17   5   4\n",
       "797        12        18     1     1    0  23   6   10    4   7  13   9   2\n",
       "\n",
       "[798 rows x 13 columns]"
      ]
     },
     "execution_count": 119,
     "metadata": {},
     "output_type": "execute_result"
    }
   ],
   "source": [
    "train_x"
   ]
  },
  {
   "cell_type": "code",
   "execution_count": 120,
   "metadata": {},
   "outputs": [
    {
     "name": "stderr",
     "output_type": "stream",
     "text": [
      "/Users/J.H/anaconda3/lib/python3.7/site-packages/sklearn/linear_model/logistic.py:432: FutureWarning: Default solver will be changed to 'lbfgs' in 0.22. Specify a solver to silence this warning.\n",
      "  FutureWarning)\n"
     ]
    },
    {
     "data": {
      "text/plain": [
       "LogisticRegression(C=1.0, class_weight=None, dual=False, fit_intercept=True,\n",
       "                   intercept_scaling=1, l1_ratio=None, max_iter=100,\n",
       "                   multi_class='warn', n_jobs=None, penalty='l2',\n",
       "                   random_state=None, solver='warn', tol=0.0001, verbose=0,\n",
       "                   warm_start=False)"
      ]
     },
     "execution_count": 120,
     "metadata": {},
     "output_type": "execute_result"
    }
   ],
   "source": [
    "logmodel.fit(X_train,y_train)"
   ]
  },
  {
   "cell_type": "code",
   "execution_count": 121,
   "metadata": {},
   "outputs": [],
   "source": [
    "predictions = logmodel.predict(X_test)"
   ]
  },
  {
   "cell_type": "code",
   "execution_count": 122,
   "metadata": {},
   "outputs": [
    {
     "name": "stdout",
     "output_type": "stream",
     "text": [
      "              precision    recall  f1-score   support\n",
      "\n",
      "           0       0.68      0.78      0.73       194\n",
      "           1       0.64      0.51      0.57       148\n",
      "\n",
      "    accuracy                           0.67       342\n",
      "   macro avg       0.66      0.65      0.65       342\n",
      "weighted avg       0.66      0.67      0.66       342\n",
      "\n"
     ]
    }
   ],
   "source": [
    "print(classification_report(y_test, predictions))"
   ]
  },
  {
   "cell_type": "code",
   "execution_count": 620,
   "metadata": {},
   "outputs": [
    {
     "data": {
      "text/plain": [
       "array([[152,  42],\n",
       "       [ 73,  75]], dtype=int64)"
      ]
     },
     "execution_count": 620,
     "metadata": {},
     "output_type": "execute_result"
    }
   ],
   "source": [
    "from sklearn.metrics import confusion_matrix\n",
    "confusion_matrix(y_test, predictions)"
   ]
  },
  {
   "cell_type": "markdown",
   "metadata": {},
   "source": [
    "# KNN Algorithm"
   ]
  },
  {
   "cell_type": "code",
   "execution_count": 622,
   "metadata": {},
   "outputs": [],
   "source": [
    "from sklearn.neighbors import KNeighborsClassifier"
   ]
  },
  {
   "cell_type": "code",
   "execution_count": 708,
   "metadata": {},
   "outputs": [],
   "source": [
    "X_train = train_x.iloc[:,2:]\n",
    "X_test = test_x.iloc[:,2:]\n",
    "#X_train = train_x_pca\n",
    "#X_test = test_x_pca\n",
    "\n",
    "y_train = train_y[\"Interest\"]\n",
    "y_test = test_y[\"Interest\"]"
   ]
  },
  {
   "cell_type": "code",
   "execution_count": 709,
   "metadata": {},
   "outputs": [],
   "source": [
    "knn = KNeighborsClassifier(n_neighbors=3)"
   ]
  },
  {
   "cell_type": "code",
   "execution_count": 710,
   "metadata": {},
   "outputs": [
    {
     "data": {
      "text/plain": [
       "KNeighborsClassifier(algorithm='auto', leaf_size=30, metric='minkowski',\n",
       "                     metric_params=None, n_jobs=None, n_neighbors=3, p=2,\n",
       "                     weights='uniform')"
      ]
     },
     "execution_count": 710,
     "metadata": {},
     "output_type": "execute_result"
    }
   ],
   "source": [
    "knn.fit(X_train,y_train)"
   ]
  },
  {
   "cell_type": "code",
   "execution_count": 711,
   "metadata": {},
   "outputs": [],
   "source": [
    "pred = knn.predict(X_test)"
   ]
  },
  {
   "cell_type": "code",
   "execution_count": 712,
   "metadata": {},
   "outputs": [
    {
     "name": "stdout",
     "output_type": "stream",
     "text": [
      "              precision    recall  f1-score   support\n",
      "\n",
      "           0       0.62      0.71      0.67       194\n",
      "           1       0.54      0.44      0.48       148\n",
      "\n",
      "    accuracy                           0.59       342\n",
      "   macro avg       0.58      0.58      0.57       342\n",
      "weighted avg       0.59      0.59      0.59       342\n",
      "\n"
     ]
    }
   ],
   "source": [
    "print(classification_report(y_test,pred))"
   ]
  },
  {
   "cell_type": "code",
   "execution_count": 699,
   "metadata": {},
   "outputs": [
    {
     "name": "stdout",
     "output_type": "stream",
     "text": [
      "[[173  21]\n",
      " [ 74  74]]\n"
     ]
    }
   ],
   "source": [
    "print(confusion_matrix(y_test,pred))"
   ]
  },
  {
   "cell_type": "code",
   "execution_count": 681,
   "metadata": {},
   "outputs": [],
   "source": [
    "error_rate = []\n",
    "\n",
    "# Will take some time\n",
    "for i in range(1,40):\n",
    "    \n",
    "    knn = KNeighborsClassifier(n_neighbors=i)\n",
    "    knn.fit(X_train,y_train)\n",
    "    pred_i = knn.predict(X_test)\n",
    "    error_rate.append(np.mean(pred_i != y_test))"
   ]
  },
  {
   "cell_type": "code",
   "execution_count": 682,
   "metadata": {
    "scrolled": false
   },
   "outputs": [
    {
     "data": {
      "text/plain": [
       "Text(0, 0.5, 'Error Rate')"
      ]
     },
     "execution_count": 682,
     "metadata": {},
     "output_type": "execute_result"
    },
    {
     "data": {
      "image/png": "[encoded data removed]",
      "text/plain": [
       "<Figure size 720x432 with 1 Axes>"
      ]
     },
     "metadata": {
      "needs_background": "light"
     },
     "output_type": "display_data"
    }
   ],
   "source": [
    "plt.figure(figsize=(10,6))\n",
    "plt.plot(range(1,40),error_rate,color='blue', linestyle='dashed', marker='o',\n",
    "         markerfacecolor='red', markersize=10)\n",
    "plt.title('Error Rate vs. K Value')\n",
    "plt.xlabel('K')\n",
    "plt.ylabel('Error Rate')"
   ]
  },
  {
   "cell_type": "code",
   "execution_count": null,
   "metadata": {},
   "outputs": [],
   "source": []
  }
 ],
 "metadata": {
  "kernelspec": {
   "display_name": "Python 3",
   "language": "python",
   "name": "python3"
  },
  "language_info": {
   "codemirror_mode": {
    "name": "ipython",
    "version": 3
   },
   "file_extension": ".py",
   "mimetype": "text/x-python",
   "name": "python",
   "nbconvert_exporter": "python",
   "pygments_lexer": "ipython3",
   "version": "3.7.4"
  }
 },
 "nbformat": 4,
 "nbformat_minor": 2
}
